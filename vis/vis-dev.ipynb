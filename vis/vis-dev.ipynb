{
 "cells": [
  {
   "cell_type": "code",
   "execution_count": 2,
   "metadata": {},
   "outputs": [],
   "source": [
    "import pandas as pd\n",
    "import altair as alt\n",
    "import numpy as np\n",
    "import os"
   ]
  },
  {
   "cell_type": "code",
   "execution_count": 8,
   "metadata": {
    "tags": []
   },
   "outputs": [],
   "source": [
    "alt.data_transformers.enable('default', max_rows=1000000)\n",
    "\n",
    "debates = pd.read_csv('../save/official/summaries/debates.csv')\n",
    "debates['Start time'] = pd.to_datetime(debates['Start time'], unit='ms')\n",
    "debates['Final_probability_incorrect'] = (1 - debates['Final probability correct'])\n",
    "sessions = pd.read_csv('../save/official/summaries/sessions.csv')\n",
    "turns = pd.read_csv('../save/official/summaries/turns.csv')"
   ]
  },
  {
   "cell_type": "code",
   "execution_count": 50,
   "metadata": {
    "tags": []
   },
   "outputs": [
    {
     "data": {
      "text/html": [
       "<div>\n",
       "<style scoped>\n",
       "    .dataframe tbody tr th:only-of-type {\n",
       "        vertical-align: middle;\n",
       "    }\n",
       "\n",
       "    .dataframe tbody tr th {\n",
       "        vertical-align: top;\n",
       "    }\n",
       "\n",
       "    .dataframe thead th {\n",
       "        text-align: right;\n",
       "    }\n",
       "</style>\n",
       "<table border=\"1\" class=\"dataframe\">\n",
       "  <thead>\n",
       "    <tr style=\"text-align: right;\">\n",
       "      <th></th>\n",
       "      <th>Room name</th>\n",
       "    </tr>\n",
       "  </thead>\n",
       "  <tbody>\n",
       "    <tr>\n",
       "      <th>0</th>\n",
       "      <td>the-desert-and-the-stars-1</td>\n",
       "    </tr>\n",
       "    <tr>\n",
       "      <th>1</th>\n",
       "      <td>the-desert-and-the-stars-1</td>\n",
       "    </tr>\n",
       "    <tr>\n",
       "      <th>2</th>\n",
       "      <td>the-desert-and-the-stars-1</td>\n",
       "    </tr>\n",
       "    <tr>\n",
       "      <th>3</th>\n",
       "      <td>the-desert-and-the-stars-1</td>\n",
       "    </tr>\n",
       "    <tr>\n",
       "      <th>4</th>\n",
       "      <td>the-desert-and-the-stars-1</td>\n",
       "    </tr>\n",
       "    <tr>\n",
       "      <th>...</th>\n",
       "      <td>...</td>\n",
       "    </tr>\n",
       "    <tr>\n",
       "      <th>526</th>\n",
       "      <td>ambition-1</td>\n",
       "    </tr>\n",
       "    <tr>\n",
       "      <th>527</th>\n",
       "      <td>ambition-1</td>\n",
       "    </tr>\n",
       "    <tr>\n",
       "      <th>528</th>\n",
       "      <td>ambition-1</td>\n",
       "    </tr>\n",
       "    <tr>\n",
       "      <th>529</th>\n",
       "      <td>ambition-1</td>\n",
       "    </tr>\n",
       "    <tr>\n",
       "      <th>530</th>\n",
       "      <td>ambition-1</td>\n",
       "    </tr>\n",
       "  </tbody>\n",
       "</table>\n",
       "<p>531 rows × 1 columns</p>\n",
       "</div>"
      ],
      "text/plain": [
       "                      Room name\n",
       "0    the-desert-and-the-stars-1\n",
       "1    the-desert-and-the-stars-1\n",
       "2    the-desert-and-the-stars-1\n",
       "3    the-desert-and-the-stars-1\n",
       "4    the-desert-and-the-stars-1\n",
       "..                          ...\n",
       "526                  ambition-1\n",
       "527                  ambition-1\n",
       "528                  ambition-1\n",
       "529                  ambition-1\n",
       "530                  ambition-1\n",
       "\n",
       "[531 rows x 1 columns]"
      ]
     },
     "execution_count": 50,
     "metadata": {},
     "output_type": "execute_result"
    }
   ],
   "source": [
    "turns"
   ]
  },
  {
   "cell_type": "code",
   "execution_count": 29,
   "metadata": {},
   "outputs": [
    {
     "data": {
      "text/html": [
       "\n",
       "<div id=\"altair-viz-6c5bcde15ce04c639c1d2a349ace8e48\"></div>\n",
       "<script type=\"text/javascript\">\n",
       "  (function(spec, embedOpt){\n",
       "    let outputDiv = document.currentScript.previousElementSibling;\n",
       "    if (outputDiv.id !== \"altair-viz-6c5bcde15ce04c639c1d2a349ace8e48\") {\n",
       "      outputDiv = document.getElementById(\"altair-viz-6c5bcde15ce04c639c1d2a349ace8e48\");\n",
       "    }\n",
       "    const paths = {\n",
       "      \"vega\": \"https://cdn.jsdelivr.net/npm//vega@5?noext\",\n",
       "      \"vega-lib\": \"https://cdn.jsdelivr.net/npm//vega-lib?noext\",\n",
       "      \"vega-lite\": \"https://cdn.jsdelivr.net/npm//vega-lite@4.8.1?noext\",\n",
       "      \"vega-embed\": \"https://cdn.jsdelivr.net/npm//vega-embed@6?noext\",\n",
       "    };\n",
       "\n",
       "    function loadScript(lib) {\n",
       "      return new Promise(function(resolve, reject) {\n",
       "        var s = document.createElement('script');\n",
       "        s.src = paths[lib];\n",
       "        s.async = true;\n",
       "        s.onload = () => resolve(paths[lib]);\n",
       "        s.onerror = () => reject(`Error loading script: ${paths[lib]}`);\n",
       "        document.getElementsByTagName(\"head\")[0].appendChild(s);\n",
       "      });\n",
       "    }\n",
       "\n",
       "    function showError(err) {\n",
       "      outputDiv.innerHTML = `<div class=\"error\" style=\"color:red;\">${err}</div>`;\n",
       "      throw err;\n",
       "    }\n",
       "\n",
       "    function displayChart(vegaEmbed) {\n",
       "      vegaEmbed(outputDiv, spec, embedOpt)\n",
       "        .catch(err => showError(`Javascript Error: ${err.message}<br>This usually means there's a typo in your chart specification. See the javascript console for the full traceback.`));\n",
       "    }\n",
       "\n",
       "    if(typeof define === \"function\" && define.amd) {\n",
       "      requirejs.config({paths});\n",
       "      require([\"vega-embed\"], displayChart, err => showError(`Error loading script: ${err.message}`));\n",
       "    } else if (typeof vegaEmbed === \"function\") {\n",
       "      displayChart(vegaEmbed);\n",
       "    } else {\n",
       "      loadScript(\"vega\")\n",
       "        .then(() => loadScript(\"vega-lite\"))\n",
       "        .then(() => loadScript(\"vega-embed\"))\n",
       "        .catch(showError)\n",
       "        .then(() => displayChart(vegaEmbed));\n",
       "    }\n",
       "  })({\"config\": {\"view\": {\"continuousWidth\": 400, \"continuousHeight\": 300}}, \"data\": {\"name\": \"data-19414f2c2a1ea4b008f1f874df6c7733\"}, \"mark\": \"line\", \"encoding\": {\"tooltip\": [{\"type\": \"temporal\", \"field\": \"Start time\", \"timeUnit\": \"yearmonthdate\"}, {\"type\": \"quantitative\", \"aggregate\": \"mean\", \"field\": \"Final probability correct\"}], \"x\": {\"type\": \"temporal\", \"field\": \"Start time\", \"timeUnit\": \"yearmonthdate\"}, \"y\": {\"type\": \"quantitative\", \"aggregate\": \"mean\", \"field\": \"Final probability correct\"}}, \"title\": \"Mean final probability over time\", \"width\": 750, \"$schema\": \"https://vega.github.io/schema/vega-lite/v4.8.1.json\", \"datasets\": {\"data-19414f2c2a1ea4b008f1f874df6c7733\": [{\"Creation time\": 1677792082603, \"Start time\": \"2023-03-02T22:18:59.223000\", \"Room name\": \"the-desert-and-the-stars-1\", \"Honest debater\": \"Sean Wang\", \"Dishonest debater\": \"Jackson Petty\", \"Judge\": \"Ethan Rosen\", \"Final probability correct\": 0.8, \"Rounds\": 3, \"Final_probability_incorrect\": 0.19999999999999996}, {\"Creation time\": 1678404069200, \"Start time\": \"2023-03-10T16:04:48.433000\", \"Room name\": \"lost-in-translation-3\", \"Honest debater\": \"Salsabila Mahdi\", \"Dishonest debater\": \"Shreeram Modi\", \"Judge\": \"Sean Wang\", \"Final probability correct\": 0.98, \"Rounds\": 2, \"Final_probability_incorrect\": 0.020000000000000018}, {\"Creation time\": 1676596891375, \"Start time\": \"2023-02-17T16:06:56.914000\", \"Room name\": \"the-starbusters-0\", \"Honest debater\": \"Vishakh Padmakumar\", \"Dishonest debater\": \"Jackson Petty\", \"Judge\": \"Sean Wang\", \"Final probability correct\": 0.99, \"Rounds\": 1, \"Final_probability_incorrect\": 0.010000000000000009}, {\"Creation time\": 1677256223112, \"Start time\": \"2023-02-24T16:31:38.093000\", \"Room name\": \"mr-meek-plays-polo-3\", \"Honest debater\": \"Julian Michael\", \"Dishonest debater\": \"David Rein\", \"Judge\": \"Salsabila Mahdi\", \"Final probability correct\": 0.99, \"Rounds\": 3, \"Final_probability_incorrect\": 0.010000000000000009}, {\"Creation time\": 1670279633546, \"Start time\": \"2022-12-07T22:32:44.623000\", \"Room name\": \"ambition-4\", \"Honest debater\": \"Shreeram Modi\", \"Dishonest debater\": \"Salsabila Mahdi\", \"Judge\": null, \"Final probability correct\": null, \"Rounds\": 0, \"Final_probability_incorrect\": null}, {\"Creation time\": 1676043375596, \"Start time\": \"2023-02-10T16:07:31.993000\", \"Room name\": \"manners-and-customs-2\", \"Honest debater\": \"David Rein\", \"Dishonest debater\": \"Ethan Rosen\", \"Judge\": \"Jackson Petty\", \"Final probability correct\": 0.75, \"Rounds\": 2, \"Final_probability_incorrect\": 0.25}, {\"Creation time\": 1678113424649, \"Start time\": \"2023-03-06T20:40:54.104000\", \"Room name\": \"coming-of-the-gods-0\", \"Honest debater\": \"Vishakh Padmakumar\", \"Dishonest debater\": \"Julien Dirani\", \"Judge\": \"Ethan Rosen\", \"Final probability correct\": 0.010000000000000007, \"Rounds\": 1, \"Final_probability_incorrect\": 0.99}, {\"Creation time\": 1671043651370, \"Start time\": \"2022-12-14T22:19:41.452000\", \"Room name\": \"jaywalker-4\", \"Honest debater\": \"Shreeram Modi\", \"Dishonest debater\": \"Jessica Li\", \"Judge\": \"Julian Michael\", \"Final probability correct\": 0.65, \"Rounds\": 3, \"Final_probability_incorrect\": 0.35}, {\"Creation time\": 1677177415939, \"Start time\": \"2023-02-24T15:09:40.555000\", \"Room name\": \"mr-meek-plays-polo-1\", \"Honest debater\": \"David Rein\", \"Dishonest debater\": \"Shreeram Modi\", \"Judge\": \"Jackson Petty\", \"Final probability correct\": 0.99, \"Rounds\": 2, \"Final_probability_incorrect\": 0.010000000000000009}, {\"Creation time\": 1677511792096, \"Start time\": \"2023-02-27T17:46:50.940000\", \"Room name\": \"the-soul-eaters-4\", \"Honest debater\": \"Sean Wang\", \"Dishonest debater\": \"Salsabila Mahdi\", \"Judge\": \"Julian Michael\", \"Final probability correct\": 0.99, \"Rounds\": 2, \"Final_probability_incorrect\": 0.010000000000000009}, {\"Creation time\": 1670280540781, \"Start time\": \"2022-12-07T22:27:35.736000\", \"Room name\": \"pied-piper-of-mars-3\", \"Honest debater\": \"Jessica Li\", \"Dishonest debater\": \"Sean Wang\", \"Judge\": null, \"Final probability correct\": null, \"Rounds\": 0, \"Final_probability_incorrect\": null}, {\"Creation time\": 1676043107408, \"Start time\": \"2023-02-10T16:09:20.375000\", \"Room name\": \"dust-unto-dust-0\", \"Honest debater\": \"Julian Michael\", \"Dishonest debater\": \"Ethan Rosen\", \"Judge\": \"Sean Wang\", \"Final probability correct\": 0.99, \"Rounds\": 2, \"Final_probability_incorrect\": 0.010000000000000009}, {\"Creation time\": 1678113121048, \"Start time\": \"2023-03-06T16:16:21.516000\", \"Room name\": \"stalemate-in-space-3\", \"Honest debater\": \"Shreeram Modi\", \"Dishonest debater\": \"Jessica Li\", \"Judge\": \"David Rein\", \"Final probability correct\": null, \"Rounds\": 3, \"Final_probability_incorrect\": null}, {\"Creation time\": 1678231319751, \"Start time\": \"2023-03-08T17:34:33.066000\", \"Room name\": \"lost-in-translation-2\", \"Honest debater\": \"Jackson Petty\", \"Dishonest debater\": \"Vishakh Padmakumar\", \"Judge\": null, \"Final probability correct\": null, \"Rounds\": 0, \"Final_probability_incorrect\": null}, {\"Creation time\": 1671043436322, \"Start time\": \"2022-12-14T22:19:52.829000\", \"Room name\": \"jaywalker-3\", \"Honest debater\": \"Sean Wang\", \"Dishonest debater\": \"Salsabila Mahdi\", \"Judge\": \"Ethan Rosen\", \"Final probability correct\": 0.45, \"Rounds\": 3, \"Final_probability_incorrect\": 0.55}, {\"Creation time\": 1677177578626, \"Start time\": \"2023-02-23T21:38:35.877000\", \"Room name\": \"mr-meek-plays-polo-2\", \"Honest debater\": \"Julian Michael\", \"Dishonest debater\": \"Vishakh Padmakumar\", \"Judge\": \"Ethan Rosen\", \"Final probability correct\": 0.9, \"Rounds\": 1, \"Final_probability_incorrect\": 0.09999999999999998}, {\"Creation time\": 1678112931406, \"Start time\": \"2023-03-06T21:06:31.092000\", \"Room name\": \"the-desert-and-the-stars-3\", \"Honest debater\": \"Shreeram Modi\", \"Dishonest debater\": \"Max Layden\", \"Judge\": \"Jessica Li\", \"Final probability correct\": null, \"Rounds\": 2, \"Final_probability_incorrect\": null}, {\"Creation time\": 1670279484137, \"Start time\": \"2022-12-07T22:36:06.740000\", \"Room name\": \"ambition-3\", \"Honest debater\": \"Julien Dirani\", \"Dishonest debater\": \"Max Layden\", \"Judge\": null, \"Final probability correct\": null, \"Rounds\": 0, \"Final_probability_incorrect\": null}, {\"Creation time\": 1677177970277, \"Start time\": \"2023-02-23T21:41:56.022000\", \"Room name\": \"the-soul-eaters-2\", \"Honest debater\": \"Salsabila Mahdi\", \"Dishonest debater\": \"Jackson Petty\", \"Judge\": \"Julian Michael\", \"Final probability correct\": 0.99, \"Rounds\": 3, \"Final_probability_incorrect\": 0.010000000000000009}, {\"Creation time\": 1676596981356, \"Start time\": \"2023-02-17T15:23:38.611000\", \"Room name\": \"the-starbusters-1\", \"Honest debater\": \"Vishakh Padmakumar\", \"Dishonest debater\": \"Ethan Rosen\", \"Judge\": \"Julian Michael\", \"Final probability correct\": 0.93, \"Rounds\": 3, \"Final_probability_incorrect\": 0.06999999999999995}, {\"Creation time\": 1676596747020, \"Start time\": \"2023-02-20T21:01:03.346000\", \"Room name\": \"doorway-to-kal-jmar-4\", \"Honest debater\": \"Ethan Rosen\", \"Dishonest debater\": \"Shreeram Modi\", \"Judge\": \"Jessica Li\", \"Final probability correct\": 0.95, \"Rounds\": 2, \"Final_probability_incorrect\": 0.050000000000000044}, {\"Creation time\": 1669655788154, \"Start time\": \"2022-11-30T22:15:01.963000\", \"Room name\": \"mightiest-qorn-2\", \"Honest debater\": \"Shreeram Modi\", \"Dishonest debater\": \"Sean Wang\", \"Judge\": \"Vishakh Padmakumar\", \"Final probability correct\": 0.4, \"Rounds\": 3, \"Final_probability_incorrect\": 0.6}, {\"Creation time\": 1676313156709, \"Start time\": \"2023-02-17T16:10:01.061000\", \"Room name\": \"the-man-who-was-six-2\", \"Honest debater\": \"Jessica Li\", \"Dishonest debater\": \"Salsabila Mahdi\", \"Judge\": \"Shreeram Modi\", \"Final probability correct\": 0.99, \"Rounds\": 3, \"Final_probability_incorrect\": 0.010000000000000009}, {\"Creation time\": 1671056234792, \"Start time\": \"2022-12-14T22:20:59.149000\", \"Room name\": \"jaywalker-0\", \"Honest debater\": \"Jessica Li\", \"Dishonest debater\": \"David Rein\", \"Judge\": \"Ethan Rosen\", \"Final probability correct\": 0.6, \"Rounds\": 3, \"Final_probability_incorrect\": 0.4}, {\"Creation time\": 1676645969566, \"Start time\": \"2023-02-17T16:39:36.847000\", \"Room name\": \"the-man-who-was-six-6\", \"Honest debater\": \"David Rein\", \"Dishonest debater\": \"Jackson Petty\", \"Judge\": \"Vishakh Padmakumar\", \"Final probability correct\": 0.75, \"Rounds\": 2, \"Final_probability_incorrect\": 0.25}, {\"Creation time\": 1677532762430, \"Start time\": \"2023-02-27T21:21:34.432000\", \"Room name\": \"stalemate-in-space-0\", \"Honest debater\": \"Ethan Rosen\", \"Dishonest debater\": \"Shreeram Modi\", \"Judge\": \"David Rein\", \"Final probability correct\": 0.99, \"Rounds\": 2, \"Final_probability_incorrect\": 0.010000000000000009}, {\"Creation time\": 1676313283894, \"Start time\": \"2023-02-13T21:07:07.740000\", \"Room name\": \"doorway-to-kal-jmar-1\", \"Honest debater\": \"David Rein\", \"Dishonest debater\": \"Ethan Rosen\", \"Judge\": \"Jessica Li\", \"Final probability correct\": 0.55, \"Rounds\": 2, \"Final_probability_incorrect\": 0.44999999999999996}, {\"Creation time\": 1676313227120, \"Start time\": \"2023-02-13T21:10:44.903000\", \"Room name\": \"doorway-to-kal-jmar-0\", \"Honest debater\": \"Salsabila Mahdi\", \"Dishonest debater\": \"Ethan Rosen\", \"Judge\": \"Sean Wang\", \"Final probability correct\": 0.99, \"Rounds\": 2, \"Final_probability_incorrect\": 0.010000000000000009}, {\"Creation time\": 1677255554574, \"Start time\": \"2023-02-24T16:29:20.415000\", \"Room name\": \"the-soul-eaters-3\", \"Honest debater\": \"Ethan Rosen\", \"Dishonest debater\": \"Jackson Petty\", \"Judge\": \"Shreeram Modi\", \"Final probability correct\": 0.99, \"Rounds\": 2, \"Final_probability_incorrect\": 0.010000000000000009}, {\"Creation time\": 1678230327750, \"Start time\": \"2023-03-08T17:23:43.105000\", \"Room name\": \"retief-of-the-red-1\", \"Honest debater\": \"Julian Michael\", \"Dishonest debater\": \"David Rein\", \"Judge\": null, \"Final probability correct\": null, \"Rounds\": 0, \"Final_probability_incorrect\": null}, {\"Creation time\": 1671043350751, \"Start time\": \"\", \"Room name\": \"jaywalker-2\", \"Honest debater\": \"Sean Wang\", \"Dishonest debater\": \"Shreeram Modi\", \"Judge\": null, \"Final probability correct\": null, \"Rounds\": 0, \"Final_probability_incorrect\": null}, {\"Creation time\": 1677792315334, \"Start time\": \"2023-03-03T14:37:18.009000\", \"Room name\": \"the-desert-and-the-stars-2\", \"Honest debater\": \"Julian Michael\", \"Dishonest debater\": \"Salsabila Mahdi\", \"Judge\": \"Vishakh Padmakumar\", \"Final probability correct\": 0.75, \"Rounds\": 3, \"Final_probability_incorrect\": 0.25}, {\"Creation time\": 1678230735534, \"Start time\": \"2023-03-08T16:54:31.249000\", \"Room name\": \"coming-of-the-gods-1\", \"Honest debater\": \"David Rein\", \"Dishonest debater\": \"Vishakh Padmakumar\", \"Judge\": null, \"Final probability correct\": null, \"Rounds\": 0, \"Final_probability_incorrect\": null}, {\"Creation time\": 1670280617961, \"Start time\": \"2022-12-07T22:44:46.545000\", \"Room name\": \"pied-piper-of-mars-4\", \"Honest debater\": \"Ethan Rosen\", \"Dishonest debater\": \"Julian Michael\", \"Judge\": null, \"Final probability correct\": null, \"Rounds\": 0, \"Final_probability_incorrect\": null}, {\"Creation time\": 1676914424424, \"Start time\": \"2023-02-20T18:07:48.024000\", \"Room name\": \"the-soul-eaters-0\", \"Honest debater\": \"David Rein\", \"Dishonest debater\": \"Jackson Petty\", \"Judge\": \"Vishakh Padmakumar\", \"Final probability correct\": 0.4000000000000001, \"Rounds\": 3, \"Final_probability_incorrect\": 0.5999999999999999}, {\"Creation time\": 1677792427135, \"Start time\": \"2023-03-03T14:43:49.677000\", \"Room name\": \"stalemate-in-space-2\", \"Honest debater\": \"Julian Michael\", \"Dishonest debater\": \"Jessica Li\", \"Judge\": \"Vishakh Padmakumar\", \"Final probability correct\": 0.8, \"Rounds\": 3, \"Final_probability_incorrect\": 0.19999999999999996}, {\"Creation time\": 1677797818728, \"Start time\": \"2023-03-03T14:44:12.761000\", \"Room name\": \"retief-of-the-red-0\", \"Honest debater\": \"David Rein\", \"Dishonest debater\": \"Julien Dirani\", \"Judge\": \"Salsabila Mahdi\", \"Final probability correct\": 0.99, \"Rounds\": 4, \"Final_probability_incorrect\": 0.010000000000000009}, {\"Creation time\": 1676595543863, \"Start time\": \"2023-02-17T16:07:47.760000\", \"Room name\": \"the-man-who-was-six-3\", \"Honest debater\": \"Max Layden\", \"Dishonest debater\": \"Jessica Li\", \"Judge\": \"Ethan Rosen\", \"Final probability correct\": 0.65, \"Rounds\": 2, \"Final_probability_incorrect\": 0.35}, {\"Creation time\": 1676914285592, \"Start time\": \"2023-02-20T17:37:32.668000\", \"Room name\": \"mr-meek-plays-polo-0\", \"Honest debater\": \"Vishakh Padmakumar\", \"Dishonest debater\": \"David Rein\", \"Judge\": \"Jackson Petty\", \"Final probability correct\": 0.51, \"Rounds\": 4, \"Final_probability_incorrect\": 0.49}, {\"Creation time\": 1676313028079, \"Start time\": \"2023-02-13T21:06:16.583000\", \"Room name\": \"the-man-who-was-six-0\", \"Honest debater\": \"Max Layden\", \"Dishonest debater\": \"Julian Michael\", \"Judge\": \"Julien Dirani\", \"Final probability correct\": 0.8, \"Rounds\": 2, \"Final_probability_incorrect\": 0.19999999999999996}, {\"Creation time\": 1677792669001, \"Start time\": \"2023-03-03T16:06:13.459000\", \"Room name\": \"lost-in-translation-0\", \"Honest debater\": \"David Rein\", \"Dishonest debater\": \"Jessica Li\", \"Judge\": \"Shreeram Modi\", \"Final probability correct\": 0.2, \"Rounds\": 3, \"Final_probability_incorrect\": 0.8}, {\"Creation time\": 1670280319818, \"Start time\": \"2022-12-07T23:17:35.606000\", \"Room name\": \"pied-piper-of-mars-1\", \"Honest debater\": \"Sean Wang\", \"Dishonest debater\": \"Julian Michael\", \"Judge\": null, \"Final probability correct\": null, \"Rounds\": 0, \"Final_probability_incorrect\": null}, {\"Creation time\": 1677797740585, \"Start time\": \"2023-03-03T14:43:39.685000\", \"Room name\": \"stalemate-in-space-1\", \"Honest debater\": \"Ethan Rosen\", \"Dishonest debater\": \"Sean Wang\", \"Judge\": \"Salsabila Mahdi\", \"Final probability correct\": 0.010000000000000007, \"Rounds\": 4, \"Final_probability_incorrect\": 0.99}, {\"Creation time\": 1676313483634, \"Start time\": \"2023-02-13T21:07:11.937000\", \"Room name\": \"doorway-to-kal-jmar-2\", \"Honest debater\": \"Shreeram Modi\", \"Dishonest debater\": \"Julien Dirani\", \"Judge\": \"Max Layden\", \"Final probability correct\": 0.65, \"Rounds\": 3, \"Final_probability_incorrect\": 0.35}, {\"Creation time\": 1669664951020, \"Start time\": \"2022-11-30T23:42:01.273000\", \"Room name\": \"ambition-0\", \"Honest debater\": \"Shreeram Modi\", \"Dishonest debater\": \"David Rein\", \"Judge\": \"Ethan Rosen\", \"Final probability correct\": 0.66, \"Rounds\": 2, \"Final_probability_incorrect\": 0.33999999999999997}, {\"Creation time\": 1670280052355, \"Start time\": \"2022-12-07T22:59:37.703000\", \"Room name\": \"pied-piper-of-mars-0\", \"Honest debater\": \"Jessica Li\", \"Dishonest debater\": \"Julien Dirani\", \"Judge\": null, \"Final probability correct\": null, \"Rounds\": 0, \"Final_probability_incorrect\": null}, {\"Creation time\": 1670279803456, \"Start time\": \"2022-12-07T23:13:22.309000\", \"Room name\": \"ambition-5\", \"Honest debater\": \"Shreeram Modi\", \"Dishonest debater\": \"Max Layden\", \"Judge\": null, \"Final probability correct\": null, \"Rounds\": 0, \"Final_probability_incorrect\": null}, {\"Creation time\": 1670341750686, \"Start time\": \"2022-12-06T16:32:29.245000\", \"Room name\": \"pied-piper-of-mars-5\", \"Honest debater\": \"Salsabila Mahdi\", \"Dishonest debater\": \"Julian Michael\", \"Judge\": null, \"Final probability correct\": null, \"Rounds\": 0, \"Final_probability_incorrect\": null}, {\"Creation time\": 1669651909319, \"Start time\": \"2022-11-30T22:13:41.016000\", \"Room name\": \"mightiest-qorn-0\", \"Honest debater\": \"Jessica Li\", \"Dishonest debater\": \"Ethan Rosen\", \"Judge\": \"Salsabila Mahdi\", \"Final probability correct\": 0.85, \"Rounds\": 3, \"Final_probability_incorrect\": 0.15000000000000002}, {\"Creation time\": 1676043211562, \"Start time\": \"2023-02-10T16:04:51.870000\", \"Room name\": \"dust-unto-dust-2\", \"Honest debater\": \"Shreeram Modi\", \"Dishonest debater\": \"Jackson Petty\", \"Judge\": \"Jessica Li\", \"Final probability correct\": 0.99, \"Rounds\": 2, \"Final_probability_incorrect\": 0.010000000000000009}, {\"Creation time\": 1676043334730, \"Start time\": \"2023-02-10T16:44:18.505000\", \"Room name\": \"manners-and-customs-1\", \"Honest debater\": \"Jessica Li\", \"Dishonest debater\": \"Sean Wang\", \"Judge\": \"Julien Dirani\", \"Final probability correct\": 0.85, \"Rounds\": 3, \"Final_probability_incorrect\": 0.15000000000000002}, {\"Creation time\": 1676595773182, \"Start time\": \"2023-02-17T16:19:58.596000\", \"Room name\": \"the-man-who-was-six-4\", \"Honest debater\": \"David Rein\", \"Dishonest debater\": \"Salsabila Mahdi\", \"Judge\": \"Julien Dirani\", \"Final probability correct\": 0.19999999999999996, \"Rounds\": 1, \"Final_probability_incorrect\": 0.8}, {\"Creation time\": 1678113307450, \"Start time\": \"2023-03-06T18:48:05.340000\", \"Room name\": \"lost-in-translation-1\", \"Honest debater\": \"Max Layden\", \"Dishonest debater\": \"David Rein\", \"Judge\": \"Julian Michael\", \"Final probability correct\": 0.99, \"Rounds\": 3, \"Final_probability_incorrect\": 0.010000000000000009}, {\"Creation time\": 1676313105423, \"Start time\": \"2023-02-13T21:02:11.073000\", \"Room name\": \"the-man-who-was-six-1\", \"Honest debater\": \"David Rein\", \"Dishonest debater\": \"Sean Wang\", \"Judge\": \"Ethan Rosen\", \"Final probability correct\": 0.8, \"Rounds\": 2, \"Final_probability_incorrect\": 0.19999999999999996}, {\"Creation time\": 1676043165491, \"Start time\": \"2023-02-10T16:06:23.065000\", \"Room name\": \"dust-unto-dust-1\", \"Honest debater\": \"Julian Michael\", \"Dishonest debater\": \"Julien Dirani\", \"Judge\": \"David Rein\", \"Final probability correct\": 0.95, \"Rounds\": 2, \"Final_probability_incorrect\": 0.050000000000000044}, {\"Creation time\": 1676043281654, \"Start time\": \"2023-02-10T16:30:00.985000\", \"Room name\": \"manners-and-customs-0\", \"Honest debater\": \"Julian Michael\", \"Dishonest debater\": \"Shreeram Modi\", \"Judge\": \"Salsabila Mahdi\", \"Final probability correct\": 0.99, \"Rounds\": 3, \"Final_probability_incorrect\": 0.010000000000000009}, {\"Creation time\": 1678230245084, \"Start time\": \"2023-03-10T15:14:46.128000\", \"Room name\": \"stalemate-in-space-4\", \"Honest debater\": \"Jackson Petty\", \"Dishonest debater\": \"Julian Michael\", \"Judge\": null, \"Final probability correct\": null, \"Rounds\": 0, \"Final_probability_incorrect\": null}, {\"Creation time\": 1677511962935, \"Start time\": \"2023-02-27T16:56:59.949000\", \"Room name\": \"the-desert-and-the-stars-0\", \"Honest debater\": \"Julian Michael\", \"Dishonest debater\": \"Jackson Petty\", \"Judge\": \"David Rein\", \"Final probability correct\": 0.98, \"Rounds\": 3, \"Final_probability_incorrect\": 0.020000000000000018}, {\"Creation time\": 1669665724548, \"Start time\": \"2022-11-30T23:36:48.776000\", \"Room name\": \"ambition-2\", \"Honest debater\": \"Julian Michael\", \"Dishonest debater\": \"Vishakh Padmakumar\", \"Judge\": \"Sean Wang\", \"Final probability correct\": 0.8, \"Rounds\": 2, \"Final_probability_incorrect\": 0.19999999999999996}, {\"Creation time\": 1670280431263, \"Start time\": \"2022-12-07T23:14:01.689000\", \"Room name\": \"pied-piper-of-mars-2\", \"Honest debater\": \"Ethan Rosen\", \"Dishonest debater\": \"Salsabila Mahdi\", \"Judge\": null, \"Final probability correct\": null, \"Rounds\": 0, \"Final_probability_incorrect\": null}, {\"Creation time\": 1677177737259, \"Start time\": \"2023-02-27T21:08:02.644000\", \"Room name\": \"the-soul-eaters-1\", \"Honest debater\": \"Jessica Li\", \"Dishonest debater\": \"Ethan Rosen\", \"Judge\": \"Max Layden\", \"Final probability correct\": 0.8, \"Rounds\": 3, \"Final_probability_incorrect\": 0.19999999999999996}, {\"Creation time\": 1671043196642, \"Start time\": \"2022-12-14T22:28:29.033000\", \"Room name\": \"jaywalker-1\", \"Honest debater\": \"Salsabila Mahdi\", \"Dishonest debater\": \"David Rein\", \"Judge\": \"Julian Michael\", \"Final probability correct\": 0.72, \"Rounds\": 2, \"Final_probability_incorrect\": 0.28}, {\"Creation time\": 1676596596655, \"Start time\": \"2023-02-17T16:06:45.386000\", \"Room name\": \"doorway-to-kal-jmar-3\", \"Honest debater\": \"Salsabila Mahdi\", \"Dishonest debater\": \"Julien Dirani\", \"Judge\": \"Sean Wang\", \"Final probability correct\": 0.95, \"Rounds\": 2, \"Final_probability_incorrect\": 0.050000000000000044}, {\"Creation time\": 1678403930512, \"Start time\": \"2023-03-09T23:32:15.405000\", \"Room name\": \"retief-of-the-red-2\", \"Honest debater\": \"Sean Wang\", \"Dishonest debater\": \"Julian Michael\", \"Judge\": \"Ethan Rosen\", \"Final probability correct\": null, \"Rounds\": 2, \"Final_probability_incorrect\": null}, {\"Creation time\": 1669655668738, \"Start time\": \"2022-11-30T22:16:32.598000\", \"Room name\": \"mightiest-qorn-1\", \"Honest debater\": \"Max Layden\", \"Dishonest debater\": \"Julian Michael\", \"Judge\": \"David Rein\", \"Final probability correct\": 0.65, \"Rounds\": 3, \"Final_probability_incorrect\": 0.35}, {\"Creation time\": 1676645924826, \"Start time\": \"2023-02-17T16:10:13.945000\", \"Room name\": \"the-man-who-was-six-5\", \"Honest debater\": \"Julian Michael\", \"Dishonest debater\": \"Sean Wang\", \"Judge\": \"Shreeram Modi\", \"Final probability correct\": 0.99, \"Rounds\": 3, \"Final_probability_incorrect\": 0.010000000000000009}, {\"Creation time\": 1669665284196, \"Start time\": \"2022-11-30T23:41:57.383000\", \"Room name\": \"ambition-1\", \"Honest debater\": \"Max Layden\", \"Dishonest debater\": \"Salsabila Mahdi\", \"Judge\": \"Jessica Li\", \"Final probability correct\": 0.87, \"Rounds\": 3, \"Final_probability_incorrect\": 0.13}]}}, {\"mode\": \"vega-lite\"});\n",
       "</script>"
      ],
      "text/plain": [
       "alt.Chart(...)"
      ]
     },
     "execution_count": 29,
     "metadata": {},
     "output_type": "execute_result"
    }
   ],
   "source": [
    "alt.Chart(debates).mark_line().encode(\n",
    "        x='yearmonthdate(Start time):T',\n",
    "        y='mean(Final probability correct)',\n",
    "        tooltip=['yearmonthdate(Start time):T', 'mean(Final probability correct)']\n",
    "    ).properties(width=750, title='Mean final probability over time')"
   ]
  },
  {
   "cell_type": "code",
   "execution_count": 49,
   "metadata": {
    "tags": []
   },
   "outputs": [
    {
     "data": {
      "text/html": [
       "\n",
       "<div id=\"altair-viz-454cef28419242328a73c1d4a24097c3\"></div>\n",
       "<script type=\"text/javascript\">\n",
       "  (function(spec, embedOpt){\n",
       "    let outputDiv = document.currentScript.previousElementSibling;\n",
       "    if (outputDiv.id !== \"altair-viz-454cef28419242328a73c1d4a24097c3\") {\n",
       "      outputDiv = document.getElementById(\"altair-viz-454cef28419242328a73c1d4a24097c3\");\n",
       "    }\n",
       "    const paths = {\n",
       "      \"vega\": \"https://cdn.jsdelivr.net/npm//vega@5?noext\",\n",
       "      \"vega-lib\": \"https://cdn.jsdelivr.net/npm//vega-lib?noext\",\n",
       "      \"vega-lite\": \"https://cdn.jsdelivr.net/npm//vega-lite@4.8.1?noext\",\n",
       "      \"vega-embed\": \"https://cdn.jsdelivr.net/npm//vega-embed@6?noext\",\n",
       "    };\n",
       "\n",
       "    function loadScript(lib) {\n",
       "      return new Promise(function(resolve, reject) {\n",
       "        var s = document.createElement('script');\n",
       "        s.src = paths[lib];\n",
       "        s.async = true;\n",
       "        s.onload = () => resolve(paths[lib]);\n",
       "        s.onerror = () => reject(`Error loading script: ${paths[lib]}`);\n",
       "        document.getElementsByTagName(\"head\")[0].appendChild(s);\n",
       "      });\n",
       "    }\n",
       "\n",
       "    function showError(err) {\n",
       "      outputDiv.innerHTML = `<div class=\"error\" style=\"color:red;\">${err}</div>`;\n",
       "      throw err;\n",
       "    }\n",
       "\n",
       "    function displayChart(vegaEmbed) {\n",
       "      vegaEmbed(outputDiv, spec, embedOpt)\n",
       "        .catch(err => showError(`Javascript Error: ${err.message}<br>This usually means there's a typo in your chart specification. See the javascript console for the full traceback.`));\n",
       "    }\n",
       "\n",
       "    if(typeof define === \"function\" && define.amd) {\n",
       "      requirejs.config({paths});\n",
       "      require([\"vega-embed\"], displayChart, err => showError(`Error loading script: ${err.message}`));\n",
       "    } else if (typeof vegaEmbed === \"function\") {\n",
       "      displayChart(vegaEmbed);\n",
       "    } else {\n",
       "      loadScript(\"vega\")\n",
       "        .then(() => loadScript(\"vega-lite\"))\n",
       "        .then(() => loadScript(\"vega-embed\"))\n",
       "        .catch(showError)\n",
       "        .then(() => displayChart(vegaEmbed));\n",
       "    }\n",
       "  })({\"config\": {\"view\": {\"continuousWidth\": 400, \"continuousHeight\": 300}}, \"data\": {\"name\": \"data-19414f2c2a1ea4b008f1f874df6c7733\"}, \"mark\": \"line\", \"encoding\": {\"tooltip\": [{\"type\": \"nominal\", \"field\": \"Room name\"}], \"x\": {\"type\": \"ordinal\", \"field\": \"Rounds\"}, \"y\": {\"type\": \"quantitative\", \"aggregate\": \"mean\", \"field\": \"Final probability correct\"}}, \"width\": 750, \"$schema\": \"https://vega.github.io/schema/vega-lite/v4.8.1.json\", \"datasets\": {\"data-19414f2c2a1ea4b008f1f874df6c7733\": [{\"Creation time\": 1677792082603, \"Start time\": \"2023-03-02T22:18:59.223000\", \"Room name\": \"the-desert-and-the-stars-1\", \"Honest debater\": \"Sean Wang\", \"Dishonest debater\": \"Jackson Petty\", \"Judge\": \"Ethan Rosen\", \"Final probability correct\": 0.8, \"Rounds\": 3, \"Final_probability_incorrect\": 0.19999999999999996}, {\"Creation time\": 1678404069200, \"Start time\": \"2023-03-10T16:04:48.433000\", \"Room name\": \"lost-in-translation-3\", \"Honest debater\": \"Salsabila Mahdi\", \"Dishonest debater\": \"Shreeram Modi\", \"Judge\": \"Sean Wang\", \"Final probability correct\": 0.98, \"Rounds\": 2, \"Final_probability_incorrect\": 0.020000000000000018}, {\"Creation time\": 1676596891375, \"Start time\": \"2023-02-17T16:06:56.914000\", \"Room name\": \"the-starbusters-0\", \"Honest debater\": \"Vishakh Padmakumar\", \"Dishonest debater\": \"Jackson Petty\", \"Judge\": \"Sean Wang\", \"Final probability correct\": 0.99, \"Rounds\": 1, \"Final_probability_incorrect\": 0.010000000000000009}, {\"Creation time\": 1677256223112, \"Start time\": \"2023-02-24T16:31:38.093000\", \"Room name\": \"mr-meek-plays-polo-3\", \"Honest debater\": \"Julian Michael\", \"Dishonest debater\": \"David Rein\", \"Judge\": \"Salsabila Mahdi\", \"Final probability correct\": 0.99, \"Rounds\": 3, \"Final_probability_incorrect\": 0.010000000000000009}, {\"Creation time\": 1670279633546, \"Start time\": \"2022-12-07T22:32:44.623000\", \"Room name\": \"ambition-4\", \"Honest debater\": \"Shreeram Modi\", \"Dishonest debater\": \"Salsabila Mahdi\", \"Judge\": null, \"Final probability correct\": null, \"Rounds\": 0, \"Final_probability_incorrect\": null}, {\"Creation time\": 1676043375596, \"Start time\": \"2023-02-10T16:07:31.993000\", \"Room name\": \"manners-and-customs-2\", \"Honest debater\": \"David Rein\", \"Dishonest debater\": \"Ethan Rosen\", \"Judge\": \"Jackson Petty\", \"Final probability correct\": 0.75, \"Rounds\": 2, \"Final_probability_incorrect\": 0.25}, {\"Creation time\": 1678113424649, \"Start time\": \"2023-03-06T20:40:54.104000\", \"Room name\": \"coming-of-the-gods-0\", \"Honest debater\": \"Vishakh Padmakumar\", \"Dishonest debater\": \"Julien Dirani\", \"Judge\": \"Ethan Rosen\", \"Final probability correct\": 0.010000000000000007, \"Rounds\": 1, \"Final_probability_incorrect\": 0.99}, {\"Creation time\": 1671043651370, \"Start time\": \"2022-12-14T22:19:41.452000\", \"Room name\": \"jaywalker-4\", \"Honest debater\": \"Shreeram Modi\", \"Dishonest debater\": \"Jessica Li\", \"Judge\": \"Julian Michael\", \"Final probability correct\": 0.65, \"Rounds\": 3, \"Final_probability_incorrect\": 0.35}, {\"Creation time\": 1677177415939, \"Start time\": \"2023-02-24T15:09:40.555000\", \"Room name\": \"mr-meek-plays-polo-1\", \"Honest debater\": \"David Rein\", \"Dishonest debater\": \"Shreeram Modi\", \"Judge\": \"Jackson Petty\", \"Final probability correct\": 0.99, \"Rounds\": 2, \"Final_probability_incorrect\": 0.010000000000000009}, {\"Creation time\": 1677511792096, \"Start time\": \"2023-02-27T17:46:50.940000\", \"Room name\": \"the-soul-eaters-4\", \"Honest debater\": \"Sean Wang\", \"Dishonest debater\": \"Salsabila Mahdi\", \"Judge\": \"Julian Michael\", \"Final probability correct\": 0.99, \"Rounds\": 2, \"Final_probability_incorrect\": 0.010000000000000009}, {\"Creation time\": 1670280540781, \"Start time\": \"2022-12-07T22:27:35.736000\", \"Room name\": \"pied-piper-of-mars-3\", \"Honest debater\": \"Jessica Li\", \"Dishonest debater\": \"Sean Wang\", \"Judge\": null, \"Final probability correct\": null, \"Rounds\": 0, \"Final_probability_incorrect\": null}, {\"Creation time\": 1676043107408, \"Start time\": \"2023-02-10T16:09:20.375000\", \"Room name\": \"dust-unto-dust-0\", \"Honest debater\": \"Julian Michael\", \"Dishonest debater\": \"Ethan Rosen\", \"Judge\": \"Sean Wang\", \"Final probability correct\": 0.99, \"Rounds\": 2, \"Final_probability_incorrect\": 0.010000000000000009}, {\"Creation time\": 1678113121048, \"Start time\": \"2023-03-06T16:16:21.516000\", \"Room name\": \"stalemate-in-space-3\", \"Honest debater\": \"Shreeram Modi\", \"Dishonest debater\": \"Jessica Li\", \"Judge\": \"David Rein\", \"Final probability correct\": null, \"Rounds\": 3, \"Final_probability_incorrect\": null}, {\"Creation time\": 1678231319751, \"Start time\": \"2023-03-08T17:34:33.066000\", \"Room name\": \"lost-in-translation-2\", \"Honest debater\": \"Jackson Petty\", \"Dishonest debater\": \"Vishakh Padmakumar\", \"Judge\": null, \"Final probability correct\": null, \"Rounds\": 0, \"Final_probability_incorrect\": null}, {\"Creation time\": 1671043436322, \"Start time\": \"2022-12-14T22:19:52.829000\", \"Room name\": \"jaywalker-3\", \"Honest debater\": \"Sean Wang\", \"Dishonest debater\": \"Salsabila Mahdi\", \"Judge\": \"Ethan Rosen\", \"Final probability correct\": 0.45, \"Rounds\": 3, \"Final_probability_incorrect\": 0.55}, {\"Creation time\": 1677177578626, \"Start time\": \"2023-02-23T21:38:35.877000\", \"Room name\": \"mr-meek-plays-polo-2\", \"Honest debater\": \"Julian Michael\", \"Dishonest debater\": \"Vishakh Padmakumar\", \"Judge\": \"Ethan Rosen\", \"Final probability correct\": 0.9, \"Rounds\": 1, \"Final_probability_incorrect\": 0.09999999999999998}, {\"Creation time\": 1678112931406, \"Start time\": \"2023-03-06T21:06:31.092000\", \"Room name\": \"the-desert-and-the-stars-3\", \"Honest debater\": \"Shreeram Modi\", \"Dishonest debater\": \"Max Layden\", \"Judge\": \"Jessica Li\", \"Final probability correct\": null, \"Rounds\": 2, \"Final_probability_incorrect\": null}, {\"Creation time\": 1670279484137, \"Start time\": \"2022-12-07T22:36:06.740000\", \"Room name\": \"ambition-3\", \"Honest debater\": \"Julien Dirani\", \"Dishonest debater\": \"Max Layden\", \"Judge\": null, \"Final probability correct\": null, \"Rounds\": 0, \"Final_probability_incorrect\": null}, {\"Creation time\": 1677177970277, \"Start time\": \"2023-02-23T21:41:56.022000\", \"Room name\": \"the-soul-eaters-2\", \"Honest debater\": \"Salsabila Mahdi\", \"Dishonest debater\": \"Jackson Petty\", \"Judge\": \"Julian Michael\", \"Final probability correct\": 0.99, \"Rounds\": 3, \"Final_probability_incorrect\": 0.010000000000000009}, {\"Creation time\": 1676596981356, \"Start time\": \"2023-02-17T15:23:38.611000\", \"Room name\": \"the-starbusters-1\", \"Honest debater\": \"Vishakh Padmakumar\", \"Dishonest debater\": \"Ethan Rosen\", \"Judge\": \"Julian Michael\", \"Final probability correct\": 0.93, \"Rounds\": 3, \"Final_probability_incorrect\": 0.06999999999999995}, {\"Creation time\": 1676596747020, \"Start time\": \"2023-02-20T21:01:03.346000\", \"Room name\": \"doorway-to-kal-jmar-4\", \"Honest debater\": \"Ethan Rosen\", \"Dishonest debater\": \"Shreeram Modi\", \"Judge\": \"Jessica Li\", \"Final probability correct\": 0.95, \"Rounds\": 2, \"Final_probability_incorrect\": 0.050000000000000044}, {\"Creation time\": 1669655788154, \"Start time\": \"2022-11-30T22:15:01.963000\", \"Room name\": \"mightiest-qorn-2\", \"Honest debater\": \"Shreeram Modi\", \"Dishonest debater\": \"Sean Wang\", \"Judge\": \"Vishakh Padmakumar\", \"Final probability correct\": 0.4, \"Rounds\": 3, \"Final_probability_incorrect\": 0.6}, {\"Creation time\": 1676313156709, \"Start time\": \"2023-02-17T16:10:01.061000\", \"Room name\": \"the-man-who-was-six-2\", \"Honest debater\": \"Jessica Li\", \"Dishonest debater\": \"Salsabila Mahdi\", \"Judge\": \"Shreeram Modi\", \"Final probability correct\": 0.99, \"Rounds\": 3, \"Final_probability_incorrect\": 0.010000000000000009}, {\"Creation time\": 1671056234792, \"Start time\": \"2022-12-14T22:20:59.149000\", \"Room name\": \"jaywalker-0\", \"Honest debater\": \"Jessica Li\", \"Dishonest debater\": \"David Rein\", \"Judge\": \"Ethan Rosen\", \"Final probability correct\": 0.6, \"Rounds\": 3, \"Final_probability_incorrect\": 0.4}, {\"Creation time\": 1676645969566, \"Start time\": \"2023-02-17T16:39:36.847000\", \"Room name\": \"the-man-who-was-six-6\", \"Honest debater\": \"David Rein\", \"Dishonest debater\": \"Jackson Petty\", \"Judge\": \"Vishakh Padmakumar\", \"Final probability correct\": 0.75, \"Rounds\": 2, \"Final_probability_incorrect\": 0.25}, {\"Creation time\": 1677532762430, \"Start time\": \"2023-02-27T21:21:34.432000\", \"Room name\": \"stalemate-in-space-0\", \"Honest debater\": \"Ethan Rosen\", \"Dishonest debater\": \"Shreeram Modi\", \"Judge\": \"David Rein\", \"Final probability correct\": 0.99, \"Rounds\": 2, \"Final_probability_incorrect\": 0.010000000000000009}, {\"Creation time\": 1676313283894, \"Start time\": \"2023-02-13T21:07:07.740000\", \"Room name\": \"doorway-to-kal-jmar-1\", \"Honest debater\": \"David Rein\", \"Dishonest debater\": \"Ethan Rosen\", \"Judge\": \"Jessica Li\", \"Final probability correct\": 0.55, \"Rounds\": 2, \"Final_probability_incorrect\": 0.44999999999999996}, {\"Creation time\": 1676313227120, \"Start time\": \"2023-02-13T21:10:44.903000\", \"Room name\": \"doorway-to-kal-jmar-0\", \"Honest debater\": \"Salsabila Mahdi\", \"Dishonest debater\": \"Ethan Rosen\", \"Judge\": \"Sean Wang\", \"Final probability correct\": 0.99, \"Rounds\": 2, \"Final_probability_incorrect\": 0.010000000000000009}, {\"Creation time\": 1677255554574, \"Start time\": \"2023-02-24T16:29:20.415000\", \"Room name\": \"the-soul-eaters-3\", \"Honest debater\": \"Ethan Rosen\", \"Dishonest debater\": \"Jackson Petty\", \"Judge\": \"Shreeram Modi\", \"Final probability correct\": 0.99, \"Rounds\": 2, \"Final_probability_incorrect\": 0.010000000000000009}, {\"Creation time\": 1678230327750, \"Start time\": \"2023-03-08T17:23:43.105000\", \"Room name\": \"retief-of-the-red-1\", \"Honest debater\": \"Julian Michael\", \"Dishonest debater\": \"David Rein\", \"Judge\": null, \"Final probability correct\": null, \"Rounds\": 0, \"Final_probability_incorrect\": null}, {\"Creation time\": 1671043350751, \"Start time\": \"\", \"Room name\": \"jaywalker-2\", \"Honest debater\": \"Sean Wang\", \"Dishonest debater\": \"Shreeram Modi\", \"Judge\": null, \"Final probability correct\": null, \"Rounds\": 0, \"Final_probability_incorrect\": null}, {\"Creation time\": 1677792315334, \"Start time\": \"2023-03-03T14:37:18.009000\", \"Room name\": \"the-desert-and-the-stars-2\", \"Honest debater\": \"Julian Michael\", \"Dishonest debater\": \"Salsabila Mahdi\", \"Judge\": \"Vishakh Padmakumar\", \"Final probability correct\": 0.75, \"Rounds\": 3, \"Final_probability_incorrect\": 0.25}, {\"Creation time\": 1678230735534, \"Start time\": \"2023-03-08T16:54:31.249000\", \"Room name\": \"coming-of-the-gods-1\", \"Honest debater\": \"David Rein\", \"Dishonest debater\": \"Vishakh Padmakumar\", \"Judge\": null, \"Final probability correct\": null, \"Rounds\": 0, \"Final_probability_incorrect\": null}, {\"Creation time\": 1670280617961, \"Start time\": \"2022-12-07T22:44:46.545000\", \"Room name\": \"pied-piper-of-mars-4\", \"Honest debater\": \"Ethan Rosen\", \"Dishonest debater\": \"Julian Michael\", \"Judge\": null, \"Final probability correct\": null, \"Rounds\": 0, \"Final_probability_incorrect\": null}, {\"Creation time\": 1676914424424, \"Start time\": \"2023-02-20T18:07:48.024000\", \"Room name\": \"the-soul-eaters-0\", \"Honest debater\": \"David Rein\", \"Dishonest debater\": \"Jackson Petty\", \"Judge\": \"Vishakh Padmakumar\", \"Final probability correct\": 0.4000000000000001, \"Rounds\": 3, \"Final_probability_incorrect\": 0.5999999999999999}, {\"Creation time\": 1677792427135, \"Start time\": \"2023-03-03T14:43:49.677000\", \"Room name\": \"stalemate-in-space-2\", \"Honest debater\": \"Julian Michael\", \"Dishonest debater\": \"Jessica Li\", \"Judge\": \"Vishakh Padmakumar\", \"Final probability correct\": 0.8, \"Rounds\": 3, \"Final_probability_incorrect\": 0.19999999999999996}, {\"Creation time\": 1677797818728, \"Start time\": \"2023-03-03T14:44:12.761000\", \"Room name\": \"retief-of-the-red-0\", \"Honest debater\": \"David Rein\", \"Dishonest debater\": \"Julien Dirani\", \"Judge\": \"Salsabila Mahdi\", \"Final probability correct\": 0.99, \"Rounds\": 4, \"Final_probability_incorrect\": 0.010000000000000009}, {\"Creation time\": 1676595543863, \"Start time\": \"2023-02-17T16:07:47.760000\", \"Room name\": \"the-man-who-was-six-3\", \"Honest debater\": \"Max Layden\", \"Dishonest debater\": \"Jessica Li\", \"Judge\": \"Ethan Rosen\", \"Final probability correct\": 0.65, \"Rounds\": 2, \"Final_probability_incorrect\": 0.35}, {\"Creation time\": 1676914285592, \"Start time\": \"2023-02-20T17:37:32.668000\", \"Room name\": \"mr-meek-plays-polo-0\", \"Honest debater\": \"Vishakh Padmakumar\", \"Dishonest debater\": \"David Rein\", \"Judge\": \"Jackson Petty\", \"Final probability correct\": 0.51, \"Rounds\": 4, \"Final_probability_incorrect\": 0.49}, {\"Creation time\": 1676313028079, \"Start time\": \"2023-02-13T21:06:16.583000\", \"Room name\": \"the-man-who-was-six-0\", \"Honest debater\": \"Max Layden\", \"Dishonest debater\": \"Julian Michael\", \"Judge\": \"Julien Dirani\", \"Final probability correct\": 0.8, \"Rounds\": 2, \"Final_probability_incorrect\": 0.19999999999999996}, {\"Creation time\": 1677792669001, \"Start time\": \"2023-03-03T16:06:13.459000\", \"Room name\": \"lost-in-translation-0\", \"Honest debater\": \"David Rein\", \"Dishonest debater\": \"Jessica Li\", \"Judge\": \"Shreeram Modi\", \"Final probability correct\": 0.2, \"Rounds\": 3, \"Final_probability_incorrect\": 0.8}, {\"Creation time\": 1670280319818, \"Start time\": \"2022-12-07T23:17:35.606000\", \"Room name\": \"pied-piper-of-mars-1\", \"Honest debater\": \"Sean Wang\", \"Dishonest debater\": \"Julian Michael\", \"Judge\": null, \"Final probability correct\": null, \"Rounds\": 0, \"Final_probability_incorrect\": null}, {\"Creation time\": 1677797740585, \"Start time\": \"2023-03-03T14:43:39.685000\", \"Room name\": \"stalemate-in-space-1\", \"Honest debater\": \"Ethan Rosen\", \"Dishonest debater\": \"Sean Wang\", \"Judge\": \"Salsabila Mahdi\", \"Final probability correct\": 0.010000000000000007, \"Rounds\": 4, \"Final_probability_incorrect\": 0.99}, {\"Creation time\": 1676313483634, \"Start time\": \"2023-02-13T21:07:11.937000\", \"Room name\": \"doorway-to-kal-jmar-2\", \"Honest debater\": \"Shreeram Modi\", \"Dishonest debater\": \"Julien Dirani\", \"Judge\": \"Max Layden\", \"Final probability correct\": 0.65, \"Rounds\": 3, \"Final_probability_incorrect\": 0.35}, {\"Creation time\": 1669664951020, \"Start time\": \"2022-11-30T23:42:01.273000\", \"Room name\": \"ambition-0\", \"Honest debater\": \"Shreeram Modi\", \"Dishonest debater\": \"David Rein\", \"Judge\": \"Ethan Rosen\", \"Final probability correct\": 0.66, \"Rounds\": 2, \"Final_probability_incorrect\": 0.33999999999999997}, {\"Creation time\": 1670280052355, \"Start time\": \"2022-12-07T22:59:37.703000\", \"Room name\": \"pied-piper-of-mars-0\", \"Honest debater\": \"Jessica Li\", \"Dishonest debater\": \"Julien Dirani\", \"Judge\": null, \"Final probability correct\": null, \"Rounds\": 0, \"Final_probability_incorrect\": null}, {\"Creation time\": 1670279803456, \"Start time\": \"2022-12-07T23:13:22.309000\", \"Room name\": \"ambition-5\", \"Honest debater\": \"Shreeram Modi\", \"Dishonest debater\": \"Max Layden\", \"Judge\": null, \"Final probability correct\": null, \"Rounds\": 0, \"Final_probability_incorrect\": null}, {\"Creation time\": 1670341750686, \"Start time\": \"2022-12-06T16:32:29.245000\", \"Room name\": \"pied-piper-of-mars-5\", \"Honest debater\": \"Salsabila Mahdi\", \"Dishonest debater\": \"Julian Michael\", \"Judge\": null, \"Final probability correct\": null, \"Rounds\": 0, \"Final_probability_incorrect\": null}, {\"Creation time\": 1669651909319, \"Start time\": \"2022-11-30T22:13:41.016000\", \"Room name\": \"mightiest-qorn-0\", \"Honest debater\": \"Jessica Li\", \"Dishonest debater\": \"Ethan Rosen\", \"Judge\": \"Salsabila Mahdi\", \"Final probability correct\": 0.85, \"Rounds\": 3, \"Final_probability_incorrect\": 0.15000000000000002}, {\"Creation time\": 1676043211562, \"Start time\": \"2023-02-10T16:04:51.870000\", \"Room name\": \"dust-unto-dust-2\", \"Honest debater\": \"Shreeram Modi\", \"Dishonest debater\": \"Jackson Petty\", \"Judge\": \"Jessica Li\", \"Final probability correct\": 0.99, \"Rounds\": 2, \"Final_probability_incorrect\": 0.010000000000000009}, {\"Creation time\": 1676043334730, \"Start time\": \"2023-02-10T16:44:18.505000\", \"Room name\": \"manners-and-customs-1\", \"Honest debater\": \"Jessica Li\", \"Dishonest debater\": \"Sean Wang\", \"Judge\": \"Julien Dirani\", \"Final probability correct\": 0.85, \"Rounds\": 3, \"Final_probability_incorrect\": 0.15000000000000002}, {\"Creation time\": 1676595773182, \"Start time\": \"2023-02-17T16:19:58.596000\", \"Room name\": \"the-man-who-was-six-4\", \"Honest debater\": \"David Rein\", \"Dishonest debater\": \"Salsabila Mahdi\", \"Judge\": \"Julien Dirani\", \"Final probability correct\": 0.19999999999999996, \"Rounds\": 1, \"Final_probability_incorrect\": 0.8}, {\"Creation time\": 1678113307450, \"Start time\": \"2023-03-06T18:48:05.340000\", \"Room name\": \"lost-in-translation-1\", \"Honest debater\": \"Max Layden\", \"Dishonest debater\": \"David Rein\", \"Judge\": \"Julian Michael\", \"Final probability correct\": 0.99, \"Rounds\": 3, \"Final_probability_incorrect\": 0.010000000000000009}, {\"Creation time\": 1676313105423, \"Start time\": \"2023-02-13T21:02:11.073000\", \"Room name\": \"the-man-who-was-six-1\", \"Honest debater\": \"David Rein\", \"Dishonest debater\": \"Sean Wang\", \"Judge\": \"Ethan Rosen\", \"Final probability correct\": 0.8, \"Rounds\": 2, \"Final_probability_incorrect\": 0.19999999999999996}, {\"Creation time\": 1676043165491, \"Start time\": \"2023-02-10T16:06:23.065000\", \"Room name\": \"dust-unto-dust-1\", \"Honest debater\": \"Julian Michael\", \"Dishonest debater\": \"Julien Dirani\", \"Judge\": \"David Rein\", \"Final probability correct\": 0.95, \"Rounds\": 2, \"Final_probability_incorrect\": 0.050000000000000044}, {\"Creation time\": 1676043281654, \"Start time\": \"2023-02-10T16:30:00.985000\", \"Room name\": \"manners-and-customs-0\", \"Honest debater\": \"Julian Michael\", \"Dishonest debater\": \"Shreeram Modi\", \"Judge\": \"Salsabila Mahdi\", \"Final probability correct\": 0.99, \"Rounds\": 3, \"Final_probability_incorrect\": 0.010000000000000009}, {\"Creation time\": 1678230245084, \"Start time\": \"2023-03-10T15:14:46.128000\", \"Room name\": \"stalemate-in-space-4\", \"Honest debater\": \"Jackson Petty\", \"Dishonest debater\": \"Julian Michael\", \"Judge\": null, \"Final probability correct\": null, \"Rounds\": 0, \"Final_probability_incorrect\": null}, {\"Creation time\": 1677511962935, \"Start time\": \"2023-02-27T16:56:59.949000\", \"Room name\": \"the-desert-and-the-stars-0\", \"Honest debater\": \"Julian Michael\", \"Dishonest debater\": \"Jackson Petty\", \"Judge\": \"David Rein\", \"Final probability correct\": 0.98, \"Rounds\": 3, \"Final_probability_incorrect\": 0.020000000000000018}, {\"Creation time\": 1669665724548, \"Start time\": \"2022-11-30T23:36:48.776000\", \"Room name\": \"ambition-2\", \"Honest debater\": \"Julian Michael\", \"Dishonest debater\": \"Vishakh Padmakumar\", \"Judge\": \"Sean Wang\", \"Final probability correct\": 0.8, \"Rounds\": 2, \"Final_probability_incorrect\": 0.19999999999999996}, {\"Creation time\": 1670280431263, \"Start time\": \"2022-12-07T23:14:01.689000\", \"Room name\": \"pied-piper-of-mars-2\", \"Honest debater\": \"Ethan Rosen\", \"Dishonest debater\": \"Salsabila Mahdi\", \"Judge\": null, \"Final probability correct\": null, \"Rounds\": 0, \"Final_probability_incorrect\": null}, {\"Creation time\": 1677177737259, \"Start time\": \"2023-02-27T21:08:02.644000\", \"Room name\": \"the-soul-eaters-1\", \"Honest debater\": \"Jessica Li\", \"Dishonest debater\": \"Ethan Rosen\", \"Judge\": \"Max Layden\", \"Final probability correct\": 0.8, \"Rounds\": 3, \"Final_probability_incorrect\": 0.19999999999999996}, {\"Creation time\": 1671043196642, \"Start time\": \"2022-12-14T22:28:29.033000\", \"Room name\": \"jaywalker-1\", \"Honest debater\": \"Salsabila Mahdi\", \"Dishonest debater\": \"David Rein\", \"Judge\": \"Julian Michael\", \"Final probability correct\": 0.72, \"Rounds\": 2, \"Final_probability_incorrect\": 0.28}, {\"Creation time\": 1676596596655, \"Start time\": \"2023-02-17T16:06:45.386000\", \"Room name\": \"doorway-to-kal-jmar-3\", \"Honest debater\": \"Salsabila Mahdi\", \"Dishonest debater\": \"Julien Dirani\", \"Judge\": \"Sean Wang\", \"Final probability correct\": 0.95, \"Rounds\": 2, \"Final_probability_incorrect\": 0.050000000000000044}, {\"Creation time\": 1678403930512, \"Start time\": \"2023-03-09T23:32:15.405000\", \"Room name\": \"retief-of-the-red-2\", \"Honest debater\": \"Sean Wang\", \"Dishonest debater\": \"Julian Michael\", \"Judge\": \"Ethan Rosen\", \"Final probability correct\": null, \"Rounds\": 2, \"Final_probability_incorrect\": null}, {\"Creation time\": 1669655668738, \"Start time\": \"2022-11-30T22:16:32.598000\", \"Room name\": \"mightiest-qorn-1\", \"Honest debater\": \"Max Layden\", \"Dishonest debater\": \"Julian Michael\", \"Judge\": \"David Rein\", \"Final probability correct\": 0.65, \"Rounds\": 3, \"Final_probability_incorrect\": 0.35}, {\"Creation time\": 1676645924826, \"Start time\": \"2023-02-17T16:10:13.945000\", \"Room name\": \"the-man-who-was-six-5\", \"Honest debater\": \"Julian Michael\", \"Dishonest debater\": \"Sean Wang\", \"Judge\": \"Shreeram Modi\", \"Final probability correct\": 0.99, \"Rounds\": 3, \"Final_probability_incorrect\": 0.010000000000000009}, {\"Creation time\": 1669665284196, \"Start time\": \"2022-11-30T23:41:57.383000\", \"Room name\": \"ambition-1\", \"Honest debater\": \"Max Layden\", \"Dishonest debater\": \"Salsabila Mahdi\", \"Judge\": \"Jessica Li\", \"Final probability correct\": 0.87, \"Rounds\": 3, \"Final_probability_incorrect\": 0.13}]}}, {\"mode\": \"vega-lite\"});\n",
       "</script>"
      ],
      "text/plain": [
       "alt.Chart(...)"
      ]
     },
     "execution_count": 49,
     "metadata": {},
     "output_type": "execute_result"
    }
   ],
   "source": [
    "alt.Chart(debates).mark_line().encode(\n",
    "        x='Rounds:O',\n",
    "        y='mean(Final probability correct):Q',\n",
    "        tooltip=['Room name']\n",
    "    ).properties(width=750)"
   ]
  }
 ],
 "metadata": {
  "kernelspec": {
   "display_name": "Python 3 (ipykernel)",
   "language": "python",
   "name": "python3"
  },
  "language_info": {
   "codemirror_mode": {
    "name": "ipython",
    "version": 3
   },
   "file_extension": ".py",
   "mimetype": "text/x-python",
   "name": "python",
   "nbconvert_exporter": "python",
   "pygments_lexer": "ipython3",
   "version": "3.10.9"
  }
 },
 "nbformat": 4,
 "nbformat_minor": 4
}
